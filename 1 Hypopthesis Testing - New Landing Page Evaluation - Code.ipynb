{
 "cells": [
  {
   "cell_type": "markdown",
   "metadata": {},
   "source": [
    "## Background: \n",
    "\n",
    "An online news portal aims to expand its business by acquiring new subscribers. Every visitor to the website takes certain actions based on their interest. The company plans to analyze these interests and wants to determine whether a new feature will be effective or not. Companies often analyze users' responses to two variants of a product to decide which of the two variants is more effective. This experimental technique is known as a/b testing that is used to determine whether a new feature attracts users based on a chosen metric.\n",
    "\n",
    "Suppose you are hired as a Data Scientist in E-news Express. The design team of the company has created a new landing page. You have been assigned the task to decide whether the new landing page is more effective to gather new subscribers. Suppose you randomly selected 100 users and divided them equally into two groups. The old landing page is served to the first group (control group) and the new landing page is served to the second group (treatment group). Various data about the customers in both groups are collected in 'abtest.csv'. Perform the statistical analysis to answer the following questions using the collected data.\n",
    "\n",
    "## Objective:\n",
    "\n",
    "Statistical analysis of business data. Explore the dataset and extract insights from the data. The idea is for you to get comfortable with doing statistical analysis in Python.\n",
    "\n",
    "You are expected to perform the statistical analysis to answer the following questions:\n",
    "\n",
    "Explore the dataset and extract insights using Exploratory Data Analysis.\n",
    "Do the users spend more time on the new landing page than the old landing page?\n",
    "Is the conversion rate (the proportion of users who visit the landing page and get converted) for the new page greater than the conversion rate for the old page?\n",
    "Does the converted status depend on the preferred language?\n",
    "Is the mean time spent on the new page same for the different language users?\n",
    "*Consider a significance level of 0.05 for all tests.\n",
    "\n",
    "## Data Description:\n",
    "\n",
    "* user_id - This represents the user ID of the person visiting the website.\n",
    "* group - This represents whether the user belongs to the first group (control) or the second group (treatment).\n",
    "* landing_page - This represents whether the landing page is new or old.\n",
    "* time_spent_on_the_page - This represents the time (in minutes) spent by the user on the landing page.\n",
    "* converted - This represents whether the user gets converted to a subscriber of the news portal or not.\n",
    "* language_preferred - This represents the language chosen by the user to view the landing page."
   ]
  },
  {
   "cell_type": "code",
   "execution_count": null,
   "metadata": {},
   "outputs": [],
   "source": [
    "import numpy as np\n",
    "import pandas as pd\n",
    "import matplotlib.pyplot as plt \n",
    "%matplotlib inline\n",
    "import seaborn as sns\n",
    "from scipy import stats"
   ]
  },
  {
   "cell_type": "code",
   "execution_count": 369,
   "metadata": {},
   "outputs": [],
   "source": [
    "df = pd.read_csv('abtest.csv')"
   ]
  },
  {
   "cell_type": "code",
   "execution_count": 370,
   "metadata": {},
   "outputs": [
    {
     "data": {
      "text/html": [
       "<div>\n",
       "<style scoped>\n",
       "    .dataframe tbody tr th:only-of-type {\n",
       "        vertical-align: middle;\n",
       "    }\n",
       "\n",
       "    .dataframe tbody tr th {\n",
       "        vertical-align: top;\n",
       "    }\n",
       "\n",
       "    .dataframe thead th {\n",
       "        text-align: right;\n",
       "    }\n",
       "</style>\n",
       "<table border=\"1\" class=\"dataframe\">\n",
       "  <thead>\n",
       "    <tr style=\"text-align: right;\">\n",
       "      <th></th>\n",
       "      <th>user_id</th>\n",
       "      <th>group</th>\n",
       "      <th>landing_page</th>\n",
       "      <th>time_spent_on_the_page</th>\n",
       "      <th>converted</th>\n",
       "      <th>language_preferred</th>\n",
       "    </tr>\n",
       "  </thead>\n",
       "  <tbody>\n",
       "    <tr>\n",
       "      <th>0</th>\n",
       "      <td>546592</td>\n",
       "      <td>control</td>\n",
       "      <td>old</td>\n",
       "      <td>3.48</td>\n",
       "      <td>no</td>\n",
       "      <td>Spanish</td>\n",
       "    </tr>\n",
       "    <tr>\n",
       "      <th>1</th>\n",
       "      <td>546468</td>\n",
       "      <td>treatment</td>\n",
       "      <td>new</td>\n",
       "      <td>7.13</td>\n",
       "      <td>yes</td>\n",
       "      <td>English</td>\n",
       "    </tr>\n",
       "    <tr>\n",
       "      <th>2</th>\n",
       "      <td>546462</td>\n",
       "      <td>treatment</td>\n",
       "      <td>new</td>\n",
       "      <td>4.40</td>\n",
       "      <td>no</td>\n",
       "      <td>Spanish</td>\n",
       "    </tr>\n",
       "    <tr>\n",
       "      <th>3</th>\n",
       "      <td>546567</td>\n",
       "      <td>control</td>\n",
       "      <td>old</td>\n",
       "      <td>3.02</td>\n",
       "      <td>no</td>\n",
       "      <td>French</td>\n",
       "    </tr>\n",
       "    <tr>\n",
       "      <th>4</th>\n",
       "      <td>546459</td>\n",
       "      <td>treatment</td>\n",
       "      <td>new</td>\n",
       "      <td>4.75</td>\n",
       "      <td>yes</td>\n",
       "      <td>Spanish</td>\n",
       "    </tr>\n",
       "  </tbody>\n",
       "</table>\n",
       "</div>"
      ],
      "text/plain": [
       "   user_id      group landing_page  time_spent_on_the_page converted  \\\n",
       "0   546592    control          old                    3.48        no   \n",
       "1   546468  treatment          new                    7.13       yes   \n",
       "2   546462  treatment          new                    4.40        no   \n",
       "3   546567    control          old                    3.02        no   \n",
       "4   546459  treatment          new                    4.75       yes   \n",
       "\n",
       "  language_preferred  \n",
       "0            Spanish  \n",
       "1            English  \n",
       "2            Spanish  \n",
       "3             French  \n",
       "4            Spanish  "
      ]
     },
     "execution_count": 370,
     "metadata": {},
     "output_type": "execute_result"
    }
   ],
   "source": [
    "df.head()"
   ]
  },
  {
   "cell_type": "code",
   "execution_count": 371,
   "metadata": {},
   "outputs": [
    {
     "data": {
      "text/html": [
       "<div>\n",
       "<style scoped>\n",
       "    .dataframe tbody tr th:only-of-type {\n",
       "        vertical-align: middle;\n",
       "    }\n",
       "\n",
       "    .dataframe tbody tr th {\n",
       "        vertical-align: top;\n",
       "    }\n",
       "\n",
       "    .dataframe thead th {\n",
       "        text-align: right;\n",
       "    }\n",
       "</style>\n",
       "<table border=\"1\" class=\"dataframe\">\n",
       "  <thead>\n",
       "    <tr style=\"text-align: right;\">\n",
       "      <th></th>\n",
       "      <th>user_id</th>\n",
       "      <th>time_spent_on_the_page</th>\n",
       "    </tr>\n",
       "  </thead>\n",
       "  <tbody>\n",
       "    <tr>\n",
       "      <th>count</th>\n",
       "      <td>100.000000</td>\n",
       "      <td>100.000000</td>\n",
       "    </tr>\n",
       "    <tr>\n",
       "      <th>mean</th>\n",
       "      <td>546517.000000</td>\n",
       "      <td>5.377800</td>\n",
       "    </tr>\n",
       "    <tr>\n",
       "      <th>std</th>\n",
       "      <td>52.295779</td>\n",
       "      <td>2.378166</td>\n",
       "    </tr>\n",
       "    <tr>\n",
       "      <th>min</th>\n",
       "      <td>546443.000000</td>\n",
       "      <td>0.190000</td>\n",
       "    </tr>\n",
       "    <tr>\n",
       "      <th>25%</th>\n",
       "      <td>546467.750000</td>\n",
       "      <td>3.880000</td>\n",
       "    </tr>\n",
       "    <tr>\n",
       "      <th>50%</th>\n",
       "      <td>546492.500000</td>\n",
       "      <td>5.415000</td>\n",
       "    </tr>\n",
       "    <tr>\n",
       "      <th>75%</th>\n",
       "      <td>546567.250000</td>\n",
       "      <td>7.022500</td>\n",
       "    </tr>\n",
       "    <tr>\n",
       "      <th>max</th>\n",
       "      <td>546592.000000</td>\n",
       "      <td>10.710000</td>\n",
       "    </tr>\n",
       "  </tbody>\n",
       "</table>\n",
       "</div>"
      ],
      "text/plain": [
       "             user_id  time_spent_on_the_page\n",
       "count     100.000000              100.000000\n",
       "mean   546517.000000                5.377800\n",
       "std        52.295779                2.378166\n",
       "min    546443.000000                0.190000\n",
       "25%    546467.750000                3.880000\n",
       "50%    546492.500000                5.415000\n",
       "75%    546567.250000                7.022500\n",
       "max    546592.000000               10.710000"
      ]
     },
     "execution_count": 371,
     "metadata": {},
     "output_type": "execute_result"
    }
   ],
   "source": [
    "df.describe()"
   ]
  },
  {
   "cell_type": "code",
   "execution_count": 372,
   "metadata": {},
   "outputs": [
    {
     "data": {
      "text/plain": [
       "(100, 6)"
      ]
     },
     "execution_count": 372,
     "metadata": {},
     "output_type": "execute_result"
    }
   ],
   "source": [
    "df.shape"
   ]
  },
  {
   "cell_type": "code",
   "execution_count": 373,
   "metadata": {},
   "outputs": [
    {
     "data": {
      "text/plain": [
       "user_id                   0\n",
       "group                     0\n",
       "landing_page              0\n",
       "time_spent_on_the_page    0\n",
       "converted                 0\n",
       "language_preferred        0\n",
       "dtype: int64"
      ]
     },
     "execution_count": 373,
     "metadata": {},
     "output_type": "execute_result"
    }
   ],
   "source": [
    "# Check for missing value in any colum\n",
    "df.isnull().sum()"
   ]
  },
  {
   "cell_type": "code",
   "execution_count": 374,
   "metadata": {},
   "outputs": [
    {
     "name": "stdout",
     "output_type": "stream",
     "text": [
      "<class 'pandas.core.frame.DataFrame'>\n",
      "RangeIndex: 100 entries, 0 to 99\n",
      "Data columns (total 6 columns):\n",
      " #   Column                  Non-Null Count  Dtype  \n",
      "---  ------                  --------------  -----  \n",
      " 0   user_id                 100 non-null    int64  \n",
      " 1   group                   100 non-null    object \n",
      " 2   landing_page            100 non-null    object \n",
      " 3   time_spent_on_the_page  100 non-null    float64\n",
      " 4   converted               100 non-null    object \n",
      " 5   language_preferred      100 non-null    object \n",
      "dtypes: float64(1), int64(1), object(4)\n",
      "memory usage: 4.8+ KB\n"
     ]
    }
   ],
   "source": [
    "df.info()"
   ]
  },
  {
   "cell_type": "markdown",
   "metadata": {},
   "source": [
    "### There are no missing values in this data set"
   ]
  },
  {
   "cell_type": "markdown",
   "metadata": {},
   "source": [
    "### Q1 : \n",
    "Exploring the data and conducting some preliminary analysis"
   ]
  },
  {
   "cell_type": "code",
   "execution_count": 378,
   "metadata": {},
   "outputs": [
    {
     "data": {
      "text/html": [
       "<div>\n",
       "<style scoped>\n",
       "    .dataframe tbody tr th:only-of-type {\n",
       "        vertical-align: middle;\n",
       "    }\n",
       "\n",
       "    .dataframe tbody tr th {\n",
       "        vertical-align: top;\n",
       "    }\n",
       "\n",
       "    .dataframe thead th {\n",
       "        text-align: right;\n",
       "    }\n",
       "</style>\n",
       "<table border=\"1\" class=\"dataframe\">\n",
       "  <thead>\n",
       "    <tr style=\"text-align: right;\">\n",
       "      <th></th>\n",
       "      <th>user_id</th>\n",
       "      <th>group</th>\n",
       "      <th>landing_page</th>\n",
       "      <th>time_spent_on_the_page</th>\n",
       "      <th>converted</th>\n",
       "      <th>language_preferred</th>\n",
       "    </tr>\n",
       "  </thead>\n",
       "  <tbody>\n",
       "    <tr>\n",
       "      <th>0</th>\n",
       "      <td>546592</td>\n",
       "      <td>control</td>\n",
       "      <td>old</td>\n",
       "      <td>3.48</td>\n",
       "      <td>no</td>\n",
       "      <td>Spanish</td>\n",
       "    </tr>\n",
       "    <tr>\n",
       "      <th>1</th>\n",
       "      <td>546468</td>\n",
       "      <td>treatment</td>\n",
       "      <td>new</td>\n",
       "      <td>7.13</td>\n",
       "      <td>yes</td>\n",
       "      <td>English</td>\n",
       "    </tr>\n",
       "    <tr>\n",
       "      <th>2</th>\n",
       "      <td>546462</td>\n",
       "      <td>treatment</td>\n",
       "      <td>new</td>\n",
       "      <td>4.40</td>\n",
       "      <td>no</td>\n",
       "      <td>Spanish</td>\n",
       "    </tr>\n",
       "    <tr>\n",
       "      <th>3</th>\n",
       "      <td>546567</td>\n",
       "      <td>control</td>\n",
       "      <td>old</td>\n",
       "      <td>3.02</td>\n",
       "      <td>no</td>\n",
       "      <td>French</td>\n",
       "    </tr>\n",
       "    <tr>\n",
       "      <th>4</th>\n",
       "      <td>546459</td>\n",
       "      <td>treatment</td>\n",
       "      <td>new</td>\n",
       "      <td>4.75</td>\n",
       "      <td>yes</td>\n",
       "      <td>Spanish</td>\n",
       "    </tr>\n",
       "  </tbody>\n",
       "</table>\n",
       "</div>"
      ],
      "text/plain": [
       "   user_id      group landing_page  time_spent_on_the_page converted  \\\n",
       "0   546592    control          old                    3.48        no   \n",
       "1   546468  treatment          new                    7.13       yes   \n",
       "2   546462  treatment          new                    4.40        no   \n",
       "3   546567    control          old                    3.02        no   \n",
       "4   546459  treatment          new                    4.75       yes   \n",
       "\n",
       "  language_preferred  \n",
       "0            Spanish  \n",
       "1            English  \n",
       "2            Spanish  \n",
       "3             French  \n",
       "4            Spanish  "
      ]
     },
     "execution_count": 378,
     "metadata": {},
     "output_type": "execute_result"
    }
   ],
   "source": [
    "df.head()"
   ]
  },
  {
   "cell_type": "code",
   "execution_count": 379,
   "metadata": {},
   "outputs": [
    {
     "data": {
      "image/png": "[encoded data removed]",
      "text/plain": [
       "<Figure size 360x360 with 1 Axes>"
      ]
     },
     "metadata": {
      "needs_background": "light"
     },
     "output_type": "display_data"
    }
   ],
   "source": [
    "plt.figure(figsize=(5,5))\n",
    "sns.barplot(data=df,x='converted',y='time_spent_on_the_page',hue='language_preferred')\n",
    "plt.show()"
   ]
  },
  {
   "cell_type": "code",
   "execution_count": 380,
   "metadata": {},
   "outputs": [
    {
     "name": "stdout",
     "output_type": "stream",
     "text": [
      "  language_preferred  total_user_count  converted_user_count  \\\n",
      "0            English                32                    21   \n",
      "1             French                34                    15   \n",
      "2            Spanish                34                    18   \n",
      "\n",
      "   conversion_rate (%)  \n",
      "0                 66.0  \n",
      "1                 44.0  \n",
      "2                 53.0  \n"
     ]
    }
   ],
   "source": [
    "###### Check if there is the language preferred drives the conversion ratio.\n",
    "\n",
    "# calculate the user counts all users for each language preferred\n",
    "df_total_user_cnt_by_language = df.groupby([df['language_preferred']]).agg(total_user_count = ('converted' , 'count')).reset_index()\n",
    "\n",
    "# calculate the user counts of ONLY CONVERTED users for each language preferred\n",
    "converted_user_language = df.groupby('language_preferred')\n",
    "converted_user_language = converted_user_language.apply(lambda x: x[x['converted'] == 'yes']['converted'].count()).reset_index(name='converted_user_count')\n",
    "converted_user_language\n",
    "\n",
    "# Merge the total user count data and conversion count data joined by preferred language\n",
    "df_conversion_data_by_language = pd.merge(df_total_user_cnt_by_language ,converted_user_language , how = 'inner' , on = 'language_preferred'  )\n",
    "\n",
    "# Calculate the conversion rate\n",
    "df_conversion_data_by_language ['conversion_rate (%)'] = round(df_conversion_data_by_language['converted_user_count']/df_conversion_data_by_language['total_user_count'], 2)*100\n",
    "print(df_conversion_data_by_language)\n",
    "\n"
   ]
  },
  {
   "cell_type": "code",
   "execution_count": 381,
   "metadata": {},
   "outputs": [
    {
     "data": {
      "image/png": "[encoded data removed]",
      "text/plain": [
       "<Figure size 360x360 with 1 Axes>"
      ]
     },
     "metadata": {
      "needs_background": "light"
     },
     "output_type": "display_data"
    }
   ],
   "source": [
    "# Plot the above data to visualize the impact of language of the webpage on the conversion ratio\n",
    "plt.figure(figsize=(5,5))\n",
    "sns.barplot(data=df_conversion_data_by_language,x='language_preferred',y = 'conversion_rate (%)')\n",
    "plt.title(\"Impact Of Preferred Language On Conversion Rate\")\n",
    "plt.xlabel(\"Language Preferred\")\n",
    "plt.ylabel(\"Conversion Rate (%)\")\n",
    "plt.show()\n"
   ]
  },
  {
   "cell_type": "markdown",
   "metadata": {},
   "source": [
    "### Insight:\n",
    "It appears that the language does have some impact on the conversion rate with english webpages experiencing a higher conversion rate than the rest. But further analysis is needed to verify if this difference in conversion rate is significant enough"
   ]
  },
  {
   "cell_type": "code",
   "execution_count": 382,
   "metadata": {},
   "outputs": [
    {
     "data": {
      "text/html": [
       "<div>\n",
       "<style scoped>\n",
       "    .dataframe tbody tr th:only-of-type {\n",
       "        vertical-align: middle;\n",
       "    }\n",
       "\n",
       "    .dataframe tbody tr th {\n",
       "        vertical-align: top;\n",
       "    }\n",
       "\n",
       "    .dataframe thead th {\n",
       "        text-align: right;\n",
       "    }\n",
       "</style>\n",
       "<table border=\"1\" class=\"dataframe\">\n",
       "  <thead>\n",
       "    <tr style=\"text-align: right;\">\n",
       "      <th></th>\n",
       "      <th>converted</th>\n",
       "      <th>user_count</th>\n",
       "      <th>total_time_spent</th>\n",
       "      <th>avg_time_spent (mins)</th>\n",
       "    </tr>\n",
       "  </thead>\n",
       "  <tbody>\n",
       "    <tr>\n",
       "      <th>1</th>\n",
       "      <td>yes</td>\n",
       "      <td>54</td>\n",
       "      <td>357.65</td>\n",
       "      <td>6.62</td>\n",
       "    </tr>\n",
       "    <tr>\n",
       "      <th>0</th>\n",
       "      <td>no</td>\n",
       "      <td>46</td>\n",
       "      <td>180.13</td>\n",
       "      <td>3.92</td>\n",
       "    </tr>\n",
       "  </tbody>\n",
       "</table>\n",
       "</div>"
      ],
      "text/plain": [
       "  converted  user_count  total_time_spent  avg_time_spent (mins)\n",
       "1       yes          54            357.65                   6.62\n",
       "0        no          46            180.13                   3.92"
      ]
     },
     "execution_count": 382,
     "metadata": {},
     "output_type": "execute_result"
    }
   ],
   "source": [
    "# Calculate the average time spent on the webpage for users who subscribed to the platform vs those who did not subscribe\n",
    "# This is to check if the time spent(user engagement) has any impact on the conversion rate\n",
    "df_conv_grp = df.groupby([df['converted']]).agg(user_count = ('converted' , 'count'),total_time_spent = ('time_spent_on_the_page' , 'sum')  ).reset_index()\n",
    "df_conv_grp['avg_time_spent (mins)'] = round(df_conv_grp['total_time_spent'] / df_conv_grp['user_count'],2)\n",
    "df_conv_grp = df_conv_grp.sort_values(by='user_count',ascending=False) # sort in descending order\n",
    "df_conv_grp = df_conv_grp.head(10)\n",
    "df_conv_grp"
   ]
  },
  {
   "cell_type": "code",
   "execution_count": 383,
   "metadata": {},
   "outputs": [
    {
     "data": {
      "image/png": "[encoded data removed]",
      "text/plain": [
       "<Figure size 360x360 with 1 Axes>"
      ]
     },
     "metadata": {
      "needs_background": "light"
     },
     "output_type": "display_data"
    }
   ],
   "source": [
    "# Plot the above data to visualize the impact of time spent on the conversion ratio\n",
    "plt.figure(figsize=(5,5))\n",
    "sns.barplot(data=df_conv_grp,x='user_count',y = 'avg_time_spent (mins)' , hue='converted')\n",
    "plt.title(\"Impact Of Time Spent On Conversion Ratio\")\n",
    "plt.xlabel(\"User Count\")\n",
    "plt.ylabel(\"Average Time spent (in mins)\")\n",
    "plt.show()"
   ]
  },
  {
   "cell_type": "code",
   "execution_count": 384,
   "metadata": {},
   "outputs": [
    {
     "data": {
      "image/png": "[encoded data removed]",
      "text/plain": [
       "<Figure size 432x432 with 1 Axes>"
      ]
     },
     "metadata": {
      "needs_background": "light"
     },
     "output_type": "display_data"
    }
   ],
   "source": [
    "# draw the boxplot for visualization \n",
    "fig, ax = plt.subplots(figsize = (6,6))\n",
    "a = sns.boxplot(x= \"converted\", y = 'time_spent_on_the_page' , data = df)\n",
    "a.set_title(\"Time Spent on Webpage Vs Converted Status\", fontsize=12)\n",
    "plt.xlabel(\"Converted ?\")\n",
    "plt.ylabel(\"Time spent (mins)\")\n",
    "plt.show()\n"
   ]
  },
  {
   "cell_type": "markdown",
   "metadata": {},
   "source": [
    "### Insight : \n",
    "It appears that users who tend to spend more time on the page tend to have a higher conversion rate. This implies that the more the user engages on the webpage, the more likely is he to convert to a subscriber."
   ]
  },
  {
   "cell_type": "code",
   "execution_count": 385,
   "metadata": {},
   "outputs": [
    {
     "data": {
      "image/png": "[encoded data removed]",
      "text/plain": [
       "<Figure size 360x360 with 1 Axes>"
      ]
     },
     "metadata": {
      "needs_background": "light"
     },
     "output_type": "display_data"
    }
   ],
   "source": [
    "df_conv_grp = df.groupby([df['landing_page'],df['converted']]).agg(user_count = ('converted' , 'count')).reset_index()\n",
    "df_conv_grp = df_conv_grp.sort_values(by='user_count',ascending=False) # sort in descending order\n",
    "df_conv_grp = df_conv_grp.head(10)\n",
    "df_conv_grp\n",
    "\n",
    "plt.figure(figsize=(5,5))\n",
    "sns.barplot(data=df_conv_grp,x='landing_page',y='user_count',hue='converted')\n",
    "plt.show()"
   ]
  },
  {
   "cell_type": "markdown",
   "metadata": {},
   "source": [
    "### Insight: \n",
    "The conversion rate for new landing page seems to be higher than the conversion rate for old landing page."
   ]
  },
  {
   "cell_type": "code",
   "execution_count": 386,
   "metadata": {},
   "outputs": [
    {
     "data": {
      "image/png": "[encoded data removed]",
      "text/plain": [
       "<Figure size 432x288 with 1 Axes>"
      ]
     },
     "metadata": {
      "needs_background": "light"
     },
     "output_type": "display_data"
    }
   ],
   "source": [
    "# Ignore any warnings\n",
    "import warnings\n",
    "warnings.simplefilter(\"ignore\")\n",
    "\n",
    "# plots a frequency polygon superimposed on a histogram using the seaborn package.\n",
    "sns.distplot(df['time_spent_on_the_page'])\n",
    "plt.show()\n"
   ]
  },
  {
   "cell_type": "markdown",
   "metadata": {},
   "source": [
    "### Insight: \n",
    "The time spent on page across all users follows a normal distribution"
   ]
  },
  {
   "cell_type": "code",
   "execution_count": 388,
   "metadata": {},
   "outputs": [
    {
     "data": {
      "image/png": "[encoded data removed]",
      "text/plain": [
       "<Figure size 432x288 with 1 Axes>"
      ]
     },
     "metadata": {
      "needs_background": "light"
     },
     "output_type": "display_data"
    },
    {
     "data": {
      "image/png": "[encoded data removed]",
      "text/plain": [
       "<Figure size 432x288 with 1 Axes>"
      ]
     },
     "metadata": {
      "needs_background": "light"
     },
     "output_type": "display_data"
    }
   ],
   "source": [
    "# extract the data for new page and old page and store in 2 different dataframes\n",
    "df_new = df[df['landing_page']== 'new']\n",
    "df_old = df[df['landing_page']== 'old']\n",
    "\n",
    "# plot density distribution graph for time spend on new landing page\n",
    "sns.distplot(df_new['time_spent_on_the_page'])\n",
    "plt.title(\"Time spent on new landing page\")\n",
    "plt.show()\n",
    "\n",
    "# plot density distribution graph for time spend on old landing page\n",
    "sns.distplot(df_old['time_spent_on_the_page'], kde='False')\n",
    "plt.title(\"Time spent on old landing page\")\n",
    "plt.show()\n"
   ]
  },
  {
   "cell_type": "code",
   "execution_count": 389,
   "metadata": {},
   "outputs": [
    {
     "name": "stdout",
     "output_type": "stream",
     "text": [
      "mean for time spent for by users on new landing page is  6.2232\n",
      "mean for time spent for by users on old landing page is  4.532400000000001\n",
      "standard deviation for time spent for by users on new landing page is  1.8170310387878263\n",
      "standard deviation for time spent for by users on old landing page is  2.581974849306046\n"
     ]
    }
   ],
   "source": [
    "# print the mean and std dev for time spent on new page and old page\n",
    "\n",
    "print( \"mean for time spent for by users on new landing page is \" , df_new['time_spent_on_the_page'].mean())\n",
    "print( \"mean for time spent for by users on old landing page is \" , df_old['time_spent_on_the_page'].mean())\n",
    "print( \"standard deviation for time spent for by users on new landing page is \" , df_new['time_spent_on_the_page'].std())\n",
    "print( \"standard deviation for time spent for by users on old landing page is \" , df_old['time_spent_on_the_page'].std())\n"
   ]
  },
  {
   "cell_type": "markdown",
   "metadata": {},
   "source": [
    "### Insight : \n",
    "On an average , the users on old landing page spent relatively lesser time than users on new landing page. Also as seen from data above and the graphs , the time spent by users on old landing page has higher standard deviation than that of new landing page"
   ]
  },
  {
   "cell_type": "code",
   "execution_count": 390,
   "metadata": {},
   "outputs": [
    {
     "name": "stdout",
     "output_type": "stream",
     "text": [
      "Mean time spent by users on new ;landing page and old landing page : \n",
      "   landing_page  time_spent_on_the_page\n",
      "0          new                  6.2232\n",
      "1          old                  4.5324  \n",
      "\n",
      "Mean time spent on the old landing page for each of the 3 different language : \n",
      "   language_preferred  time_spent_on_the_page\n",
      "0            English                4.454375\n",
      "1             French                4.310000\n",
      "2            Spanish                4.828235\n",
      "Mean time spent on the onew landing page for each of the 3 different language : \n",
      "   language_preferred  time_spent_on_the_page\n",
      "0            English                6.663750\n",
      "1             French                6.196471\n",
      "2            Spanish                5.835294\n"
     ]
    }
   ],
   "source": [
    "# Mean time spent for users using new page Vs old Page\n",
    "df_mean_time = df.groupby(['landing_page'])['time_spent_on_the_page'].mean().reset_index()\n",
    "print( \"Mean time spent by users on new ;landing page and old landing page : \\n\" , df_mean_time , \" \\n\")\n",
    "\n",
    "# Mean time spent on the old landing page for each of the 3 different language\n",
    "df_mean_time_old = df[df['landing_page']=='old'].groupby(['language_preferred'])['time_spent_on_the_page'].mean().reset_index()\n",
    "print( \"Mean time spent on the old landing page for each of the 3 different language : \\n\" , df_mean_time_old)\n",
    "\n",
    "# Mean time spent on the new landing page for each of the 3 different language\n",
    "df_mean_time_new = df[df['landing_page']=='new'].groupby(['language_preferred'])['time_spent_on_the_page'].mean().reset_index()\n",
    "print( \"Mean time spent on the onew landing page for each of the 3 different language : \\n\" , df_mean_time_new)"
   ]
  },
  {
   "cell_type": "code",
   "execution_count": 359,
   "metadata": {},
   "outputs": [
    {
     "data": {
      "image/png": "[encoded data removed]",
      "text/plain": [
       "<Figure size 288x360 with 1 Axes>"
      ]
     },
     "metadata": {
      "needs_background": "light"
     },
     "output_type": "display_data"
    },
    {
     "data": {
      "image/png": "[encoded data removed]",
      "text/plain": [
       "<Figure size 360x360 with 1 Axes>"
      ]
     },
     "metadata": {
      "needs_background": "light"
     },
     "output_type": "display_data"
    },
    {
     "data": {
      "image/png": "[encoded data removed]",
      "text/plain": [
       "<Figure size 360x360 with 1 Axes>"
      ]
     },
     "metadata": {
      "needs_background": "light"
     },
     "output_type": "display_data"
    }
   ],
   "source": [
    "# Plot a Bar graph for mean time spent on both old Vs new landing page\n",
    "plt.figure(figsize=(4,5))\n",
    "sns.barplot(data=df_mean_time,x='landing_page',y='time_spent_on_the_page')\n",
    "plt.title(\"Mean Time Spent - New Page Vs Old Page\")\n",
    "plt.xlabel(\"Landing Page\")\n",
    "plt.ylabel(\"Mean Time spent (in mins)\")\n",
    "plt.show()\n",
    "\n",
    "# Plot a Bar graph for mean time spent on the old landing page\n",
    "plt.figure(figsize=(5,5))\n",
    "sns.barplot(data=df_mean_time_old,x='language_preferred',y='time_spent_on_the_page')\n",
    "plt.title(\"Mean time for users on old landing page\")\n",
    "plt.xlabel(\"Preferred Language\")\n",
    "plt.ylabel(\"Mean Time spent (in mins)\")\n",
    "plt.show()\n",
    "\n",
    "# Plot a Bar graph for mean time spent on the new landing page\n",
    "plt.figure(figsize=(5,5))\n",
    "sns.barplot(data=df_mean_time_new,x='language_preferred',y='time_spent_on_the_page')\n",
    "plt.title(\"Mean time for users on new landing page\")\n",
    "plt.xlabel(\"Preferred Language\")\n",
    "plt.ylabel(\"Mean Time spent (in mins)\")\n",
    "plt.show()\n",
    "\n"
   ]
  },
  {
   "cell_type": "markdown",
   "metadata": {},
   "source": [
    "### Insight:\n",
    "The mean time spent by users on new landing page (6.22) is higher than that on old landing page (4.53). The mean time spent by users is not same across languages. The mean time spent for users on new landing page seems to have increased across all languages, with english language seeing the highest increase, possibly implying that the new page has more impact on the english language page users. Although the significnace of these claims/impacts needs to be tested to draw by doing a deep dive statsitical analysis (below)."
   ]
  },
  {
   "cell_type": "markdown",
   "metadata": {},
   "source": [
    "### Next Step - Statistical Analysis : \n",
    "We need to compare the above exploratory data analysis against the statistical analysis to see if any of the above findings are statistically significant to arrive at those corresponding conclusions"
   ]
  },
  {
   "cell_type": "markdown",
   "metadata": {},
   "source": [
    "### Q2 :\n",
    "**Do the users spend more time on the new landing page than the old landing page?**\n",
    "\n",
    "We saw eariler that the mean time spent by users on new landing page (6.22) is higher than mean time spent on old landing page (4.53). But we need to check if this is statistically significant.\n",
    "\n",
    "This is a 2 independent sample problem as the populations are different (users using the new landing page are different than users using the old landing page). And since we need to verify if mean time spent on new landing page is **greater than** that of old landing page, this falls under a one-tailed hypothesis. Since we need to test for the equality of means , a t-distribution statistic could potentially be used if the assumptions are met."
   ]
  },
  {
   "cell_type": "markdown",
   "metadata": {},
   "source": [
    "### The null and alternative hypothesis :\n",
    "\n",
    "\n",
    "Let $\\mu_1, \\mu_2$ be the mean time spent on **old** and **new** landing page respectively.\n",
    "\n",
    "We will test the null hypothesis\n",
    "\n",
    ">$H_0:\\mu_1=\\mu_2$\n",
    "\n",
    "against the alternate hypothesis\n",
    "\n",
    ">$H_a:\\mu_1<\\mu_2$"
   ]
  },
  {
   "cell_type": "code",
   "execution_count": 391,
   "metadata": {},
   "outputs": [
    {
     "name": "stdout",
     "output_type": "stream",
     "text": [
      "Mean time spent on old page is 4.53\n",
      "Mean time spent on new page is 6.22\n",
      "standard deviation of time spent on old page is 2.58\n",
      "standard deviation of time spent on new page is 1.82\n"
     ]
    }
   ],
   "source": [
    "# Calculate the mean & std dev for the time spent on the old page vs new landing page \n",
    "\n",
    "mu_old = round(df[df['landing_page'] == 'old']['time_spent_on_the_page'].mean() , 2)\n",
    "mu_new = round(df[df['landing_page'] == 'new']['time_spent_on_the_page'].mean() , 2)\n",
    "sigma_old = round(df[df['landing_page'] == 'old']['time_spent_on_the_page'].std() , 2)\n",
    "sigma_new = round(df[df['landing_page'] == 'new']['time_spent_on_the_page'].std() , 2)\n",
    "\n",
    "# Print the above mean and std dev\n",
    "print(\"Mean time spent on old page is {0}\".format(mu_old))\n",
    "print(\"Mean time spent on new page is {0}\".format(mu_new))\n",
    "print(\"standard deviation of time spent on old page is {0}\".format(sigma_old))\n",
    "print(\"standard deviation of time spent on new page is {0}\".format(sigma_new))"
   ]
  },
  {
   "cell_type": "code",
   "execution_count": 392,
   "metadata": {},
   "outputs": [
    {
     "data": {
      "text/html": [
       "<div>\n",
       "<style scoped>\n",
       "    .dataframe tbody tr th:only-of-type {\n",
       "        vertical-align: middle;\n",
       "    }\n",
       "\n",
       "    .dataframe tbody tr th {\n",
       "        vertical-align: top;\n",
       "    }\n",
       "\n",
       "    .dataframe thead th {\n",
       "        text-align: right;\n",
       "    }\n",
       "</style>\n",
       "<table border=\"1\" class=\"dataframe\">\n",
       "  <thead>\n",
       "    <tr style=\"text-align: right;\">\n",
       "      <th></th>\n",
       "      <th>landing_page_new</th>\n",
       "      <th>landing_page_old</th>\n",
       "    </tr>\n",
       "  </thead>\n",
       "  <tbody>\n",
       "    <tr>\n",
       "      <th>0</th>\n",
       "      <td>7.13</td>\n",
       "      <td>3.48</td>\n",
       "    </tr>\n",
       "    <tr>\n",
       "      <th>1</th>\n",
       "      <td>4.40</td>\n",
       "      <td>3.02</td>\n",
       "    </tr>\n",
       "    <tr>\n",
       "      <th>2</th>\n",
       "      <td>4.75</td>\n",
       "      <td>5.28</td>\n",
       "    </tr>\n",
       "    <tr>\n",
       "      <th>3</th>\n",
       "      <td>5.25</td>\n",
       "      <td>6.53</td>\n",
       "    </tr>\n",
       "    <tr>\n",
       "      <th>4</th>\n",
       "      <td>10.71</td>\n",
       "      <td>2.08</td>\n",
       "    </tr>\n",
       "  </tbody>\n",
       "</table>\n",
       "</div>"
      ],
      "text/plain": [
       "   landing_page_new  landing_page_old\n",
       "0              7.13              3.48\n",
       "1              4.40              3.02\n",
       "2              4.75              5.28\n",
       "3              5.25              6.53\n",
       "4             10.71              2.08"
      ]
     },
     "execution_count": 392,
     "metadata": {},
     "output_type": "execute_result"
    }
   ],
   "source": [
    "# Create a subset of the dataframe and split the time spent on new landing page and old landing page into 2 columns\n",
    "\n",
    "df_subset = (\n",
    "    df.pivot_table(index=df.groupby('landing_page').cumcount(),\n",
    "                   columns='landing_page',\n",
    "                   values='time_spent_on_the_page')\n",
    "        .add_prefix('landing_page_')\n",
    "        .rename_axis(columns=None)\n",
    ")\n",
    "\n",
    "df_subset.head()\n"
   ]
  },
  {
   "cell_type": "markdown",
   "metadata": {},
   "source": [
    "**Let's test whether the T-test assumptions are satisfied or not**\n",
    "\n",
    "1. Continuous data - \"Time Spent\" is measured on a continuous scale.\n",
    "\n",
    "2. Normally distributed populations - As we saw in the earliler part of exploratory data analysis above , the time spent is normally distributed.\n",
    "\n",
    "3. Independent populations - As we are taking random samples for two different groups, the two samples are from two independent populations.\n",
    "\n",
    "4. Unequal population standard deviations - As the sample standard deviations are different (time spent on old page 2.58 and time spent on new page 1.82), the population standard deviations may be assumed to be different.\n",
    "\n",
    "5. Random sampling from the population - Yes, we are informed that the collected sample a simple random sample.\n",
    "\n",
    "Since all the above conditions are met, we can use a the **Two Independent Sample T-test** to check for the equality of means for sample of unequal std dev"
   ]
  },
  {
   "cell_type": "markdown",
   "metadata": {},
   "source": [
    "###  Estimate the p-value :"
   ]
  },
  {
   "cell_type": "code",
   "execution_count": 393,
   "metadata": {},
   "outputs": [
    {
     "name": "stdout",
     "output_type": "stream",
     "text": [
      "The p-value is  0.0001392381225166549\n"
     ]
    }
   ],
   "source": [
    "#import the required functions\n",
    "from scipy.stats import ttest_ind\n",
    "\n",
    "# find the p-value\n",
    "test_stat, p_value = ttest_ind(df_subset['landing_page_new'], df_subset['landing_page_old'].dropna(), equal_var = False, alternative = 'greater')\n",
    "print('The p-value is ', p_value)\n"
   ]
  },
  {
   "cell_type": "markdown",
   "metadata": {},
   "source": [
    "### Insight/Conclusion\n",
    "As the p-value (~0.00013) is less than the level of significance, we can reject the null hypothesis that the mean time spent on new landing page is equal to or less than that of old landing page. Hence, we **do have** enough evidence to support the claim that mean time spent on new landing page is significantly higher than mean time spent on old landing page."
   ]
  },
  {
   "cell_type": "markdown",
   "metadata": {},
   "source": [
    "### Q3 : \n",
    "**Is the conversion rate (the proportion of users who visit the landing page and get converted) for the new page greater than the conversion rate for the old page?**"
   ]
  },
  {
   "cell_type": "markdown",
   "metadata": {},
   "source": [
    "We are required to compare the proportion (conversion rate) of 2 different samples and make our conclusion. Since we have 2 different samples and we are asked to compare the proportion, this could potentially qualify for a 2 sample Z test analysis with one-tailed hypothesis."
   ]
  },
  {
   "cell_type": "markdown",
   "metadata": {},
   "source": [
    "## Test of proportions \n",
    "\n",
    "* **landing_page** and **converted** are two categorical variables\n",
    "* We want to see if the proportion of conversion for the **new landing page** is significantly higher than it is for the **old landing page**\n",
    "\n",
    "\n",
    "**$H_0:$\n",
    "The proportion of conversion for the new landing page (P2) is less than or equal to the proportion of conversion for the old landing page (P1).\n",
    "P1 == P2**\n",
    "\n",
    "**$H_a:$ The proportion for conversion in the new landing page (P2) is significantly higher than the proportion of conversion for the old landing page (P1). \n",
    "P1 < P2**"
   ]
  },
  {
   "cell_type": "code",
   "execution_count": 394,
   "metadata": {},
   "outputs": [
    {
     "name": "stdout",
     "output_type": "stream",
     "text": [
      "User count for old landing page(control group) is 50 and for new landing page (treatment group) is 50\n",
      " # of old landing page users who converted 21\n",
      " # of new landing page users who converted 33\n"
     ]
    }
   ],
   "source": [
    "########### Given ########################\n",
    "# total number of users in old landing page (control group) = 50\n",
    "# total number of users in new landing page (treatment group) = 50\n",
    "# Lets verify this user count for control group and treatment group from the data given\n",
    "\n",
    "# Get the user count for old and new landing page\n",
    "user_ct_by_ctrl_grp = df.landing_page.value_counts()\n",
    "print('User count for old landing page(control group) is {0} and for new landing page (treatment group) is {1}'.format(user_ct_by_ctrl_grp['old'] ,user_ct_by_ctrl_grp['new']) )\n",
    "\n",
    "# Total number of old page user group users who converted\n",
    "old_page_conv_users = df[(df['landing_page']=='old') & (df['converted']=='yes')].converted.value_counts()[0]\n",
    "print(\" # of old landing page users who converted\" , old_page_conv_users)\n",
    "\n",
    "# Total number of new landing page group users who converted\n",
    "new_page_conv_users = df[(df['landing_page']=='new') & (df['converted']=='yes')].converted.value_counts()[0]\n",
    "print(\" # of new landing page users who converted\" , new_page_conv_users)\n"
   ]
  },
  {
   "cell_type": "code",
   "execution_count": 395,
   "metadata": {},
   "outputs": [
    {
     "name": "stdout",
     "output_type": "stream",
     "text": [
      "Conversion rate for old landing page is 42.0% and for new landing page is 66.0%\n"
     ]
    }
   ],
   "source": [
    "# Estimate proportions (i.e conversion rate)\n",
    "p_old = round(old_page_conv_users/50 , 2)\n",
    "p_new = round(new_page_conv_users/50 , 2)\n",
    "\n",
    "print('Conversion rate for old landing page is {0}% and for new landing page is {1}%'.format(p_old*100 , p_new*100))"
   ]
  },
  {
   "cell_type": "markdown",
   "metadata": {},
   "source": [
    "### Preliminary Insight :\n",
    "The conversion rate for new landing page is higher than that for the old landing page, which is already established from EDA analysis done in the earliler section as well. But we need to check if it is statistically significant by conducting a **Two Sample Proportion Z-test**\n"
   ]
  },
  {
   "cell_type": "markdown",
   "metadata": {},
   "source": [
    "#### Conditions To Perform Two Sample Proportion Z-Test\n",
    "*   Binomally distributed population - **Yes**, a user is either old landing page user or new landing page user.\n",
    "*   Random sampling from the population - **Yes**, we are informed that the collected sample is a simple random sample.  \n",
    "*   Can the binomial distribution approximated to normal distribution - **Yes** since np and n(1-p) are both greater than 10 for new page users and old page users. (See below for more details)\n",
    "\n",
    "Checking below to see if np and n(1-p) are greater than or equal to 10. Here, n and p refer to the sample size and sample conversion #'s respectively.\n",
    "\n",
    "We need to check if the **$Central$  $Limit$  $Theorem$** holds and that if new users and old users are sufficiently high in number\n",
    "\n",
    ">$np_1 = 50\\cdot \\frac{21}{50} =21 \\geq 10\\\\\n",
    "n(1-p_1) = 50 \\cdot \\frac{50-21}{50} =29 \\geq 10 \\\\\n",
    "np_2 = 50\\cdot \\frac{17}{50} =17 \\geq 10\\\\\n",
    "n(1-p_2) = 50 \\cdot \\frac{50-17}{50} =33 \\geq 10 $\n",
    "\n",
    "Since all the conditions to carry out a Two Sample Proportion Z-Test are satisfied , we will perform a 2-sample Z test analysis to address the question"
   ]
  },
  {
   "cell_type": "code",
   "execution_count": 397,
   "metadata": {},
   "outputs": [
    {
     "name": "stdout",
     "output_type": "stream",
     "text": [
      "With a p-value of 0.008 the difference is significant at a 0.05 significance level. So, we reject the null hypothesis.\n"
     ]
    }
   ],
   "source": [
    "# import the required function to conduct a Z-Test\n",
    "from statsmodels.stats.proportion import proportions_ztest\n",
    "\n",
    "# find the p-value\n",
    "stat, pval = proportions_ztest([old_page_conv_users,new_page_conv_users] , [50, 50], alternative = 'smaller')\n",
    "\n",
    "# print the conclusion based on p-value\n",
    "if pval < 0.05:\n",
    "    print(f'With a p-value of {round(pval,4)} the difference is significant at a 0.05 significance level. So, we reject the null hypothesis.')\n",
    "else:\n",
    "    print(f'With a p-value of {round(pval,4)} the difference is not significant at a 0.05 significance level. So, we fail to reject the null hypothesis.')"
   ]
  },
  {
   "cell_type": "markdown",
   "metadata": {},
   "source": [
    "### Insight/Conclusion:\n",
    "With a p-value of 0.008, at a 0.05 significance level, we can reject the null hypothesis that states that the comversion rate for old landing page and new landing page is the same. We have sufficient evidence to support the alternative hypothesis that the conversion rate for new landing page is significantly higher than that of old landing page."
   ]
  },
  {
   "cell_type": "markdown",
   "metadata": {},
   "source": [
    "### Q4 :\n",
    "**Does the converted status depend on the preferred language?**\n",
    "\n",
    "We need to find out if converted status is indepdent of preferred language. Since we need to check the dependency of 2 independent categorical variables, we can use Chi-Square test of indepence, provided the required conditions for the test are met."
   ]
  },
  {
   "cell_type": "code",
   "execution_count": 398,
   "metadata": {},
   "outputs": [
    {
     "data": {
      "text/html": [
       "<div>\n",
       "<style scoped>\n",
       "    .dataframe tbody tr th:only-of-type {\n",
       "        vertical-align: middle;\n",
       "    }\n",
       "\n",
       "    .dataframe tbody tr th {\n",
       "        vertical-align: top;\n",
       "    }\n",
       "\n",
       "    .dataframe thead th {\n",
       "        text-align: right;\n",
       "    }\n",
       "</style>\n",
       "<table border=\"1\" class=\"dataframe\">\n",
       "  <thead>\n",
       "    <tr style=\"text-align: right;\">\n",
       "      <th>converted</th>\n",
       "      <th>no</th>\n",
       "      <th>yes</th>\n",
       "    </tr>\n",
       "    <tr>\n",
       "      <th>language_preferred</th>\n",
       "      <th></th>\n",
       "      <th></th>\n",
       "    </tr>\n",
       "  </thead>\n",
       "  <tbody>\n",
       "    <tr>\n",
       "      <th>English</th>\n",
       "      <td>11</td>\n",
       "      <td>21</td>\n",
       "    </tr>\n",
       "    <tr>\n",
       "      <th>French</th>\n",
       "      <td>19</td>\n",
       "      <td>15</td>\n",
       "    </tr>\n",
       "    <tr>\n",
       "      <th>Spanish</th>\n",
       "      <td>16</td>\n",
       "      <td>18</td>\n",
       "    </tr>\n",
       "  </tbody>\n",
       "</table>\n",
       "</div>"
      ],
      "text/plain": [
       "converted           no  yes\n",
       "language_preferred         \n",
       "English             11   21\n",
       "French              19   15\n",
       "Spanish             16   18"
      ]
     },
     "execution_count": 398,
     "metadata": {},
     "output_type": "execute_result"
    }
   ],
   "source": [
    "# Creating a contigency table for language_preferred and converted status\n",
    "cont_table = pd.crosstab(df.language_preferred , df.converted)\n",
    "cont_table"
   ]
  },
  {
   "cell_type": "markdown",
   "metadata": {},
   "source": [
    "### Let's write the null and alternative hypothesis\n",
    "\n",
    "\n",
    "We will test the null hypothesis\n",
    "\n",
    ">$H_0:$ Converted status is independent of preferred language.\n",
    "\n",
    "against the alternate hypothesis\n",
    "\n",
    ">$H_a:$ Converted status is dependent on preferred language."
   ]
  },
  {
   "cell_type": "markdown",
   "metadata": {},
   "source": [
    "### Let's test whether the assumptions are satisfied or not\n",
    "\n",
    "* Categorical variables - Yes\n",
    "* Expected value of the number of sample observations in each level of the variable is at least 5 - Yes - As seen from the contingency table above, the number of observations in each level is greater than 5.\n",
    "* Random sampling from the population - Yes, we are informed that the collected sample is a simple random sample.\n",
    "\n",
    "Since all the conditions to carry out a Chi-Square distribution is met, we will use this statistic to check for the dependency of converted status on preferred language."
   ]
  },
  {
   "cell_type": "markdown",
   "metadata": {},
   "source": [
    "### Estimating the p-value :"
   ]
  },
  {
   "cell_type": "code",
   "execution_count": 399,
   "metadata": {},
   "outputs": [
    {
     "name": "stdout",
     "output_type": "stream",
     "text": [
      "The p-value is 0.2129888748754345\n"
     ]
    }
   ],
   "source": [
    "# import the required function to carry out chi-square test\n",
    "from scipy.stats import chi2_contingency\n",
    "\n",
    "# find the p-value\n",
    "chi, p_value, dof, expected = chi2_contingency(cont_table)\n",
    "print('The p-value is', p_value)\n",
    "\n"
   ]
  },
  {
   "cell_type": "markdown",
   "metadata": {},
   "source": [
    "### Insight/Conclusion\n",
    "As the p-value of 0.213 is higher than the significance level of 0.05, we fail to reject the null hypothesis. Hence,at a 5% significance level, we do not have enough statistical evidence to conclude that converted status is dependent on the language preferred."
   ]
  },
  {
   "cell_type": "markdown",
   "metadata": {},
   "source": [
    "### Q5 :\n",
    "**Is the mean time spent on the new page same for the different language users?**\n",
    "\n",
    "We are required to do a bi-variate analysis with one discrete variable (preferred language) and one continuous variable , by comparing means of 3 populations. We can use the one-way ANOVA F-test, provided the required conditions are met."
   ]
  },
  {
   "cell_type": "markdown",
   "metadata": {},
   "source": [
    "### The null and alternative hypothesis\n",
    "\n",
    "Let $\\mu_1, \\mu_2, \\mu_3$ be the means time spent for users with language preference for Spanish, French and English respectively.\n",
    "\n",
    "We will test the null hypothesis\n",
    "\n",
    ">$H_0: \\mu_1 = \\mu_2 = \\mu_3$\n",
    "\n",
    "against the alternative hypothesis\n",
    "\n",
    ">$H_a: $ At least one peferred language has a different mean time spent than the others."
   ]
  },
  {
   "cell_type": "code",
   "execution_count": 400,
   "metadata": {},
   "outputs": [
    {
     "data": {
      "text/plain": [
       "Spanish    17\n",
       "French     17\n",
       "English    16\n",
       "Name: language_preferred, dtype: int64"
      ]
     },
     "execution_count": 400,
     "metadata": {},
     "output_type": "execute_result"
    }
   ],
   "source": [
    "# Get the dataset filtered for new page users\n",
    "df_new_page = df[df['landing_page'] == 'new']\n",
    "\n",
    "# get the count of new page users (levels of factor) for each of 3 language_preferred\n",
    "df_new_page['language_preferred'].value_counts()"
   ]
  },
  {
   "cell_type": "code",
   "execution_count": 401,
   "metadata": {},
   "outputs": [
    {
     "name": "stdout",
     "output_type": "stream",
     "text": [
      "language_preferred\n",
      "English    6.663750\n",
      "French     6.196471\n",
      "Spanish    5.835294\n",
      "Name: time_spent_on_the_page, dtype: float64\n"
     ]
    },
    {
     "data": {
      "image/png": "[encoded data removed]",
      "text/plain": [
       "<Figure size 432x432 with 1 Axes>"
      ]
     },
     "metadata": {
      "needs_background": "light"
     },
     "output_type": "display_data"
    }
   ],
   "source": [
    "# mean of time spent on the page at different preferred language (levels of factor)\n",
    "print(df_new_page.groupby(\"language_preferred\")[\"time_spent_on_the_page\"].mean())\n",
    "\n",
    "# draw the boxplot for visualization \n",
    "fig, ax = plt.subplots(figsize = (6,6))\n",
    "a = sns.boxplot(x= \"language_preferred\", y = 'time_spent_on_the_page' , data = df_new_page, hue = 'language_preferred')\n",
    "a.set_title(\"Time spent on the page wrt language preferred\", fontsize=15)\n",
    "plt.show()"
   ]
  },
  {
   "cell_type": "markdown",
   "metadata": {},
   "source": [
    "Time spent by users on the new landing page with preferred language as English is more widely spread than time spent by users for other 2 languages"
   ]
  },
  {
   "cell_type": "markdown",
   "metadata": {},
   "source": [
    "Now, the normality and equality of variance assumptions need to be checked.\n",
    "* For testing of normality, Shapiro-Wilk’s test is applied to the response variable.\n",
    "* For equality of variance, Levene test is applied to the response variable."
   ]
  },
  {
   "cell_type": "markdown",
   "metadata": {},
   "source": [
    "### Shapiro-Wilk’s test\n",
    "\n",
    "Test the null hypothesis\n",
    "\n",
    ">$H_0:$ `Time spent on the page` follows a normal distribution\n",
    "\n",
    "against the alternative hypothesis\n",
    "\n",
    ">$H_a:$ `Time spent on the page` does not follow a normal distribution"
   ]
  },
  {
   "cell_type": "code",
   "execution_count": 402,
   "metadata": {},
   "outputs": [
    {
     "name": "stdout",
     "output_type": "stream",
     "text": [
      "The p-value is 0.8040016293525696\n"
     ]
    }
   ],
   "source": [
    "# Assumption 1: Check for Normality\n",
    "\n",
    "# import the required function to carry out Shapiro-Wilk's test\n",
    "from scipy import stats\n",
    "\n",
    "# find the p-value using Shapiro-Wilk's test\n",
    "w, p_value = stats.shapiro(df_new_page['time_spent_on_the_page']) \n",
    "print('The p-value is', p_value)"
   ]
  },
  {
   "cell_type": "markdown",
   "metadata": {},
   "source": [
    "Since p-value of the test is very large, we fail to reject the null hypothesis that the time spent on the page follows the normal distribution. This is also established in our EDA analysis in the earliler section here by plotting a distplot which depicts that the graph to follow a normal distribution curve."
   ]
  },
  {
   "cell_type": "markdown",
   "metadata": {},
   "source": [
    "### Levene’s test\n",
    "\n",
    "We will test the null hypothesis\n",
    "\n",
    ">$H_0$: All the population variances are equal i.e variance time spent on the page for the 3 different preferred languages are equal\n",
    "\n",
    "against the alternative hypothesis\n",
    "\n",
    ">$H_a$: At least one variance is different from the rest i.e variance time spent on the page for atleast one preferred languages is different from the rest"
   ]
  },
  {
   "cell_type": "code",
   "execution_count": 403,
   "metadata": {},
   "outputs": [
    {
     "name": "stdout",
     "output_type": "stream",
     "text": [
      "The p-value is 0.46711357711340173\n"
     ]
    }
   ],
   "source": [
    "#Assumption 2: Check for Homogeneity of Variance\n",
    "\n",
    "#import the required function to carry out Levene's test\n",
    "from scipy.stats import levene\n",
    "\n",
    "# Calculate the p value using levene's test\n",
    "statistic, p_value = levene( df_new_page['time_spent_on_the_page'][df_new_page['language_preferred']==\"English\"], \n",
    "                                   df_new_page['time_spent_on_the_page'][df_new_page['language_preferred']==\"French\"], \n",
    "                                   df_new_page['time_spent_on_the_page'][df_new_page['language_preferred']==\"Spanish\"])\n",
    "# find the p-value\n",
    "print('The p-value is', p_value)"
   ]
  },
  {
   "cell_type": "markdown",
   "metadata": {},
   "source": [
    "Since the p-value is large, we fail to reject the null hypothesis of homogeneity of variances. Therefore we have enough statistical evidence to disprove the alternate hypothesis that atleast one variance in time spent for one preferred language is diffent from the rest of the languages"
   ]
  },
  {
   "cell_type": "markdown",
   "metadata": {},
   "source": [
    "### Let's test whether the assumptions are satisfied or not\n",
    "\n",
    "* The populations are normally distributed - Yes, the normality assumption is verified using the Shapiro-Wilk’s test.\n",
    "* Samples are independent simple random samples - Yes, we are informed that the collected sample is a simple random sample.\n",
    "* Population variances are equal - Yes, the homogeneity of variance assumption is verified using the Levene's test.\n",
    "\n"
   ]
  },
  {
   "cell_type": "markdown",
   "metadata": {},
   "source": [
    "### Estimating the p-value"
   ]
  },
  {
   "cell_type": "code",
   "execution_count": 404,
   "metadata": {},
   "outputs": [
    {
     "name": "stdout",
     "output_type": "stream",
     "text": [
      "The p-value is 0.43204138694325955\n"
     ]
    }
   ],
   "source": [
    "#import the required function for one way F-test (ANOVA)\n",
    "from scipy.stats import f_oneway\n",
    "\n",
    "# perform one-way anova test\n",
    "test_stat, p_value = f_oneway(df_new_page.loc[df_new_page['language_preferred'] == 'English', 'time_spent_on_the_page'],\n",
    "                              df_new_page.loc[df_new_page['language_preferred'] == 'French', 'time_spent_on_the_page'],\n",
    "                              df_new_page.loc[df_new_page['language_preferred'] == 'Spanish', 'time_spent_on_the_page'])\n",
    "print('The p-value is ' + str(p_value))"
   ]
  },
  {
   "cell_type": "markdown",
   "metadata": {},
   "source": [
    "### Insight/Conclusion\n",
    "As the p-value (0.43) is higher than the significance level, we fail to reject the null hypothesis. Hence, we cannot conclude that at least one language has mean time spent that is significantly different from the rest, at 5% significance level.\n"
   ]
  }
 ],
 "metadata": {
  "kernelspec": {
   "display_name": "Python 3",
   "language": "python",
   "name": "python3"
  },
  "language_info": {
   "codemirror_mode": {
    "name": "ipython",
    "version": 3
   },
   "file_extension": ".py",
   "mimetype": "text/x-python",
   "name": "python",
   "nbconvert_exporter": "python",
   "pygments_lexer": "ipython3",
   "version": "3.8.5"
  }
 },
 "nbformat": 4,
 "nbformat_minor": 4
}
